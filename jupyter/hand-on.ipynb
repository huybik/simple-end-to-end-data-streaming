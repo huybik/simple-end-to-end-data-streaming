{
 "cells": [
  {
   "cell_type": "markdown",
   "metadata": {
    "isInteractiveWindowMessageCell": true
   },
   "source": [
    "Connected to Python 3.11.4"
   ]
  },
  {
   "cell_type": "code",
   "execution_count": 1,
   "metadata": {},
   "outputs": [],
   "source": [
    "from pyspark.sql import SparkSession\n",
    "from pyspark.sql.functions import from_json, col, unix_timestamp"
   ]
  },
  {
   "cell_type": "code",
   "execution_count": 2,
   "metadata": {},
   "outputs": [],
   "source": [
    "from pyspark.sql.types import StructType, StructField, StringType, MapType\n",
    "\n",
    "# Define the schema for the JSON structure\n",
    "json_schema = StructType([\n",
    "    StructField(\"id\", StringType(), True),\n",
    "    StructField(\"name\", StringType(), True),\n",
    "    StructField(\"type\", StringType(), True),\n",
    "    StructField(\"data\", StructType([\n",
    "        StructField(\"event\", StringType(), True),\n",
    "        StructField(\"result\", StructType([\n",
    "            StructField(\"message\", StringType(), True)\n",
    "        ]), True)\n",
    "    ]), True),\n",
    "    StructField(\"extra\", StructType([\n",
    "        StructField(\"headers\", MapType(StringType(), StringType()), True)\n",
    "    ]), True),\n",
    "    StructField(\"session\", StructType([\n",
    "            StructField(\"id\", StringType(), True),\n",
    "            StructField(\"start\", StringType(), True),\n",
    "            StructField(\"end\", StringType(), True),\n",
    "        ]), True)\n",
    "])\n"
   ]
  },
  {
   "cell_type": "code",
   "execution_count": 3,
   "metadata": {},
   "outputs": [
    {
     "name": "stderr",
     "output_type": "stream",
     "text": [
      "23/11/30 14:57:54 WARN Utils: Your hostname, codespaces-e43946 resolves to a loopback address: 127.0.0.1; using 172.16.5.4 instead (on interface eth0)\n",
      "23/11/30 14:57:54 WARN Utils: Set SPARK_LOCAL_IP if you need to bind to another address\n",
      "Setting default log level to \"WARN\".\n",
      "To adjust logging level use sc.setLogLevel(newLevel). For SparkR, use setLogLevel(newLevel).\n",
      "23/11/30 14:57:55 WARN NativeCodeLoader: Unable to load native-hadoop library for your platform... using builtin-java classes where applicable\n",
      "                                                                                \r"
     ]
    },
    {
     "name": "stdout",
     "output_type": "stream",
     "text": [
      "+--------------------+--------------------+-----+--------------------+--------------------+--------------------+-----------------+------------+--------+\n",
      "|                  id|                name| type|                  id|               start|                 end|            event|  Project-ID|duration|\n",
      "+--------------------+--------------------+-----+--------------------+--------------------+--------------------+-----------------+------------+--------+\n",
      "|rfc-recommendatio...|rfc-recommendatio...|EVENT|788b0cb26eb0469eb...|2023-11-28 21:24:...|2023-11-28 21:24:...|PREDICT_COMPLETED|project-id-3|    9000|\n",
      "+--------------------+--------------------+-----+--------------------+--------------------+--------------------+-----------------+------------+--------+\n",
      "\n"
     ]
    }
   ],
   "source": [
    "# Create a Spark session\n",
    "spark = SparkSession.builder.appName(\"Example\").config(\"spark.sql.legacy.timeParserPolicy\", \"LEGACY\").getOrCreate()\n",
    "\n",
    "# Sample JSON data\n",
    "json_data = \"\"\"\n",
    "{\n",
    "    \"id\": \"rfc-recommendation-model-prod-id\",\n",
    "    \"name\": \"rfc-recommendation-model-prod\",\n",
    "    \"type\": \"EVENT\",\n",
    "    \"data\": {\n",
    "        \"event\": \"PREDICT_COMPLETED\",\n",
    "        \"result\": {\n",
    "        \"message\": \"pricejump endpoint completed\"\n",
    "        }\n",
    "    },\n",
    "    \"session\": {\n",
    "        \"id\": \"788b0cb26eb0469eb6c37b598948a2e4\",\n",
    "        \"start\": \"2023-11-28 21:24:11.480165\",\n",
    "        \"end\": \"2023-11-28 21:24:20.480165\"\n",
    "    },\n",
    "    \"extra\": {\n",
    "        \"headers\": {\n",
    "        \"Host\": \"svc-rfc-recommendation-v2.gvd-services.svc.cluster.local:5000\",\n",
    "        \"Project-ID\": \"project-id-3\"\n",
    "        }\n",
    "    }\n",
    "}\n",
    "\"\"\"\n",
    "\n",
    "# Read JSON data with the specified schema\n",
    "df = spark.read.json(spark.sparkContext.parallelize([json_data]), schema=json_schema)\n",
    "selected_columns = [\"id\", \"name\", \"type\", \"session.id\", \"session.start\", \"session.end\", \"data.event\", \"extra.headers.Project-ID\"]\n",
    "final_stream_df = df.select(*selected_columns)\n",
    "final_stream_df = final_stream_df.withColumn(\"duration\", (unix_timestamp(\"end\") - unix_timestamp(\"start\")).cast(\"int\") * 1000)\n",
    "\n",
    "final_stream_df.show()\n",
    "\n",
    "\n",
    "# Access data within the \"headers\" field under \"extra\"\n",
    "# headers_df = df.select(\"extra.headers\")\n",
    "\n",
    "# Show the result\n",
    "# headers_df.show(truncate=False)\n"
   ]
  },
  {
   "cell_type": "code",
   "execution_count": null,
   "metadata": {},
   "outputs": [],
   "source": []
  }
 ],
 "metadata": {
  "kernelspec": {
   "display_name": "Python 3",
   "language": "python",
   "name": "python3"
  },
  "language_info": {
   "codemirror_mode": {
    "name": "ipython",
    "version": 3
   },
   "file_extension": ".py",
   "mimetype": "text/x-python",
   "name": "python",
   "nbconvert_exporter": "python",
   "pygments_lexer": "ipython3",
   "version": "3.10.13"
  }
 },
 "nbformat": 4,
 "nbformat_minor": 2
}
